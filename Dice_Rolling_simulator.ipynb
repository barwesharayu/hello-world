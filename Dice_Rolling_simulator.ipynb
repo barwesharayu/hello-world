{
 "cells": [
  {
   "cell_type": "code",
   "execution_count": 4,
   "metadata": {},
   "outputs": [
    {
     "name": "stdout",
     "output_type": "stream",
     "text": [
      "Welcome to dice roller!!\n",
      "Are you ready to play? Y/N\n",
      "Y\n",
      "6\n",
      "Do you want to play again? Y/N\n",
      "Y\n",
      "1\n",
      "Do you want to play again? Y/N\n",
      "\n",
      "okay bye bye then!!!!!\n"
     ]
    }
   ],
   "source": [
    "import random\n",
    "\n",
    "print('Welcome to dice roller!!')\n",
    "print('Are you ready to play? Y/N')\n",
    "\n",
    "ans = input()\n",
    "\n",
    "while ans =='Y':\n",
    "    \n",
    "    print(random.randint(1,6))\n",
    "    #print(t)\n",
    "    print('Do you want to play again? Y/N')\n",
    "    ans = input()\n",
    "    \n",
    "else:\n",
    "    print('okay bye bye then!!!!!')"
   ]
  },
  {
   "cell_type": "markdown",
   "metadata": {},
   "source": [
    "###### "
   ]
  },
  {
   "cell_type": "code",
   "execution_count": null,
   "metadata": {},
   "outputs": [],
   "source": []
  },
  {
   "cell_type": "code",
   "execution_count": null,
   "metadata": {},
   "outputs": [],
   "source": []
  },
  {
   "cell_type": "code",
   "execution_count": null,
   "metadata": {},
   "outputs": [],
   "source": []
  },
  {
   "cell_type": "code",
   "execution_count": null,
   "metadata": {},
   "outputs": [],
   "source": []
  }
 ],
 "metadata": {
  "kernelspec": {
   "display_name": "Python 3",
   "language": "python",
   "name": "python3"
  },
  "language_info": {
   "codemirror_mode": {
    "name": "ipython",
    "version": 3
   },
   "file_extension": ".py",
   "mimetype": "text/x-python",
   "name": "python",
   "nbconvert_exporter": "python",
   "pygments_lexer": "ipython3",
   "version": "3.7.4"
  }
 },
 "nbformat": 4,
 "nbformat_minor": 2
}
